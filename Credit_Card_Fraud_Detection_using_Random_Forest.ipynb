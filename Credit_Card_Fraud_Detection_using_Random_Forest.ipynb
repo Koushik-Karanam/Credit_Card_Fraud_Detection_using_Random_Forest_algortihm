{
  "cells": [
    {
      "source": [
        "import os\n",
        "import sys\n",
        "from tempfile import NamedTemporaryFile\n",
        "from urllib.request import urlopen\n",
        "from urllib.parse import unquote, urlparse\n",
        "from urllib.error import HTTPError\n",
        "from zipfile import ZipFile\n",
        "import tarfile\n",
        "import shutil\n",
        "\n",
        "CHUNK_SIZE = 40960\n",
        "DATA_SOURCE_MAPPING = 'creditcardfraud:https%3A%2F%2Fstorage.googleapis.com%2Fkaggle-data-sets%2F310%2F23498%2Fbundle%2Farchive.zip%3FX-Goog-Algorithm%3DGOOG4-RSA-SHA256%26X-Goog-Credential%3Dgcp-kaggle-com%2540kaggle-161607.iam.gserviceaccount.com%252F20240901%252Fauto%252Fstorage%252Fgoog4_request%26X-Goog-Date%3D20240901T080343Z%26X-Goog-Expires%3D259200%26X-Goog-SignedHeaders%3Dhost%26X-Goog-Signature%3Dbaad3db1f394352717ffb7cf4fc610fd6abffafa0028d84dd6b564eb50cf41ed154130512ea039e656e4e9b67bf4d834d89b91beb469ab46227dc2404214965b4b0185bcd0fb82a95ff3b4168e7047a9436c0ee6e4f5cbb6a0eee3be3ea88dc2c64b2c06e96c7075ab0203dd84e947aa4e8616ae962d4ed304fceb8f5dd30c67ce92aab5b8cec9bfa550ef60c6eb6ed3164d4d8b637cdfd699f263d2e5ce2a1c878c1b0c2eac71217fa2108d8a6078b7e5785feac02eb9460853a2e8e6c20985faaf5bde632a079888b8827945594b3cb4d67c2ff6d9dae42b56aac9d42e9bf50bafd197bf260d6db7a8147dcda9d65908eb16caf0b921a59f7225e3a4d693d0'\n",
        "\n",
        "KAGGLE_INPUT_PATH='/kaggle/input'\n",
        "KAGGLE_WORKING_PATH='/kaggle/working'\n",
        "KAGGLE_SYMLINK='kaggle'\n",
        "\n",
        "!umount /kaggle/input/ 2> /dev/null\n",
        "shutil.rmtree('/kaggle/input', ignore_errors=True)\n",
        "os.makedirs(KAGGLE_INPUT_PATH, 0o777, exist_ok=True)\n",
        "os.makedirs(KAGGLE_WORKING_PATH, 0o777, exist_ok=True)\n",
        "\n",
        "try:\n",
        "  os.symlink(KAGGLE_INPUT_PATH, os.path.join(\"..\", 'input'), target_is_directory=True)\n",
        "except FileExistsError:\n",
        "  pass\n",
        "try:\n",
        "  os.symlink(KAGGLE_WORKING_PATH, os.path.join(\"..\", 'working'), target_is_directory=True)\n",
        "except FileExistsError:\n",
        "  pass\n",
        "\n",
        "for data_source_mapping in DATA_SOURCE_MAPPING.split(','):\n",
        "    directory, download_url_encoded = data_source_mapping.split(':')\n",
        "    download_url = unquote(download_url_encoded)\n",
        "    filename = urlparse(download_url).path\n",
        "    destination_path = os.path.join(KAGGLE_INPUT_PATH, directory)\n",
        "    try:\n",
        "        with urlopen(download_url) as fileres, NamedTemporaryFile() as tfile:\n",
        "            total_length = fileres.headers['content-length']\n",
        "            print(f'Downloading {directory}, {total_length} bytes compressed')\n",
        "            dl = 0\n",
        "            data = fileres.read(CHUNK_SIZE)\n",
        "            while len(data) > 0:\n",
        "                dl += len(data)\n",
        "                tfile.write(data)\n",
        "                done = int(50 * dl / int(total_length))\n",
        "                sys.stdout.write(f\"\\r[{'=' * done}{' ' * (50-done)}] {dl} bytes downloaded\")\n",
        "                sys.stdout.flush()\n",
        "                data = fileres.read(CHUNK_SIZE)\n"
      ],
      "metadata": {
        "id": "DfKwTpIWnSG9"
      },
      "cell_type": "code",
      "outputs": [],
      "execution_count": null
    },
    {
      "metadata": {
        "_uuid": "8f2839f25d086af736a60e9eeb907d3b93b6e0e5",
        "_cell_guid": "b1076dfc-b9ad-4769-8c92-a6c4dae69d19",
        "trusted": true,
        "id": "wUPxuwbUnSHB"
      },
      "cell_type": "code",
      "source": [
        "\n",
        "import numpy as np # linear algebra\n",
        "import pandas as pd # data processing, CSV file I/O (e.g. pd.read_csv)\n",
        "\n",
        "import os\n",
        "for dirname, _, filenames in os.walk('/kaggle/input'):\n",
        "    for filename in filenames:\n",
        "        print(os.path.join(dirname, filename))\n",
        "\n",
        "# Any results you write to the current directory are saved as output."
      ],
      "execution_count": null,
      "outputs": []
    },
    {
      "metadata": {
        "_uuid": "d629ff2d2480ee46fbb7e2d37f6b5fab8052498a",
        "_cell_guid": "79c7e3d0-c299-4dcb-8224-4455121ee9b0",
        "trusted": true,
        "id": "6TvEC8WBnSHC"
      },
      "cell_type": "code",
      "source": [
        "# import the necessary packages\n",
        "import numpy as np\n",
        "import pandas as pd\n",
        "import matplotlib.pyplot as plt\n",
        "import seaborn as sns"
      ],
      "execution_count": null,
      "outputs": []
    },
    {
      "metadata": {
        "_cell_guid": "",
        "_uuid": "",
        "trusted": true,
        "id": "KpSm_RejnSHC"
      },
      "cell_type": "code",
      "source": [
        "import pandas as pd\n",
        "data = pd.read_csv(\"../input/creditcardfraud/creditcard.csv\")"
      ],
      "execution_count": null,
      "outputs": []
    },
    {
      "metadata": {
        "trusted": true,
        "id": "IKJqSZaznSHD"
      },
      "cell_type": "code",
      "source": [
        "# Start exploring the dataset\n",
        "print(data.columns)\n",
        "data.head()"
      ],
      "execution_count": null,
      "outputs": []
    },
    {
      "metadata": {
        "trusted": true,
        "id": "PAcZClesnSHD"
      },
      "cell_type": "code",
      "source": [
        "# Print the shape of the data\n",
        "# data = data.sample(frac=0.1, random_state = 48)\n",
        "print(data.shape)\n",
        "print(data.describe())"
      ],
      "execution_count": null,
      "outputs": []
    },
    {
      "metadata": {
        "trusted": true,
        "id": "8uDFh5_gnSHD"
      },
      "cell_type": "code",
      "source": [
        "# distribution of Amount\n",
        "amount = [data['Amount'].values]\n",
        "sns.distplot(amount)"
      ],
      "execution_count": null,
      "outputs": []
    },
    {
      "metadata": {
        "trusted": true,
        "id": "bT4c0PH7nSHE"
      },
      "cell_type": "code",
      "source": [
        "# distribution of Time\n",
        "time = data['Time'].values\n",
        "sns.distplot(time)"
      ],
      "execution_count": null,
      "outputs": []
    },
    {
      "metadata": {
        "trusted": true,
        "id": "hxEVkqmenSHE"
      },
      "cell_type": "code",
      "source": [
        "from matplotlib import gridspec\n",
        "# distribution of anomalous features\n",
        "features = data.iloc[:,0:28].columns\n",
        "\n",
        "plt.figure(figsize=(12,28*4))\n",
        "gs = gridspec.GridSpec(28, 1)\n",
        "for i, c in enumerate(data[features]):\n",
        "    ax = plt.subplot(gs[i])\n",
        "    sns.distplot(data[c][data.Class == 1], bins=50)\n",
        "    sns.distplot(data[c][data.Class == 0], bins=50)\n",
        "    ax.set_xlabel('')\n",
        "    ax.set_title('histogram of feature: ' + str(c))\n",
        "plt.show()"
      ],
      "execution_count": null,
      "outputs": []
    },
    {
      "metadata": {
        "trusted": true,
        "id": "cyKCwejjnSHF"
      },
      "cell_type": "code",
      "source": [
        "# Plot histograms of each parameter\n",
        "data.hist(figsize = (20, 20))\n",
        "plt.show()"
      ],
      "execution_count": null,
      "outputs": []
    },
    {
      "metadata": {
        "trusted": true,
        "id": "8FAaBc06nSHF"
      },
      "cell_type": "code",
      "source": [
        "# Determine number of fraud cases in dataset\n",
        "\n",
        "Fraud = data[data['Class'] == 1]\n",
        "Valid = data[data['Class'] == 0]\n",
        "\n",
        "outlier_fraction = len(Fraud)/float(len(Valid))\n",
        "print(outlier_fraction)\n",
        "\n",
        "print('Fraud Cases: {}'.format(len(data[data['Class'] == 1])))\n",
        "print('Valid Transactions: {}'.format(len(data[data['Class'] == 0])))"
      ],
      "execution_count": null,
      "outputs": []
    },
    {
      "metadata": {
        "trusted": true,
        "id": "rZ9UAmz_nSHF"
      },
      "cell_type": "code",
      "source": [
        "print(\"Amount details of fradulent transacation\")\n",
        "Fraud.Amount.describe()"
      ],
      "execution_count": null,
      "outputs": []
    },
    {
      "metadata": {
        "trusted": true,
        "id": "56pLzFrxnSHG"
      },
      "cell_type": "code",
      "source": [
        "print(\"Amount details of valid transaction\")\n",
        "Valid.Amount.describe()"
      ],
      "execution_count": null,
      "outputs": []
    },
    {
      "metadata": {
        "trusted": true,
        "id": "JDObdFiknSHG"
      },
      "cell_type": "code",
      "source": [
        "# Correlation matrix\n",
        "corrmat = data.corr()\n",
        "fig = plt.figure(figsize = (12, 9))\n",
        "\n",
        "sns.heatmap(corrmat, vmax = .8, square = True)\n",
        "plt.show()"
      ],
      "execution_count": null,
      "outputs": []
    },
    {
      "metadata": {
        "trusted": true,
        "id": "8xv3a518nSHG"
      },
      "cell_type": "code",
      "source": [
        "#seperating the X and the Y from the dataset\n",
        "X=data.drop(['Class'], axis=1)\n",
        "Y=data[\"Class\"]\n",
        "print(X.shape)\n",
        "print(Y.shape)\n",
        "#getting just the values for the sake of processing (its a numpy array with no columns)\n",
        "X_data=X.values\n",
        "Y_data=Y.values"
      ],
      "execution_count": null,
      "outputs": []
    },
    {
      "metadata": {
        "trusted": true,
        "id": "HW3P_HoRnSHG"
      },
      "cell_type": "code",
      "source": [
        "X_data"
      ],
      "execution_count": null,
      "outputs": []
    },
    {
      "metadata": {
        "id": "_HWuXaU1nSHG"
      },
      "cell_type": "markdown",
      "source": [
        "## Using Scikit-learn to split data into training and testing sets"
      ]
    },
    {
      "metadata": {
        "trusted": true,
        "id": "sFr8HQ88nSHH"
      },
      "cell_type": "code",
      "source": [
        "# Using Skicit-learn to split data into training and testing sets\n",
        "from sklearn.model_selection import train_test_split\n",
        "# Split the data into training and testing sets\n",
        "X_train, X_test, Y_train, Y_test = train_test_split(X_data, Y_data, test_size = 0.2, random_state = 42)"
      ],
      "execution_count": null,
      "outputs": []
    },
    {
      "metadata": {
        "trusted": true,
        "id": "FP3eiZEXnSHH"
      },
      "cell_type": "code",
      "source": [
        "from sklearn.metrics import classification_report, accuracy_score,precision_score,recall_score,f1_score,matthews_corrcoef\n",
        "from sklearn.metrics import confusion_matrix"
      ],
      "execution_count": null,
      "outputs": []
    },
    {
      "metadata": {
        "id": "BqDpTRvgnSHH"
      },
      "cell_type": "markdown",
      "source": [
        "## Isolation Forest Classifier"
      ]
    },
    {
      "metadata": {
        "trusted": true,
        "id": "U9dCGWANnSHH"
      },
      "cell_type": "code",
      "source": [
        "#Building another model/classifier ISOLATION FOREST\n",
        "from sklearn.ensemble import IsolationForest\n",
        "ifc=IsolationForest(max_samples=len(X_train),\n",
        "                    contamination=outlier_fraction,random_state=1)\n",
        "ifc.fit(X_train)\n",
        "scores_pred = ifc.decision_function(X_train)\n",
        "y_pred = ifc.predict(X_test)\n",
        "\n",
        "\n",
        "# Reshape the prediction values to 0 for valid, 1 for fraud.\n",
        "y_pred[y_pred == 1] = 0\n",
        "y_pred[y_pred == -1] = 1\n",
        "\n",
        "n_errors = (y_pred != Y_test).sum()\n",
        "\n"
      ],
      "execution_count": null,
      "outputs": []
    },
    {
      "metadata": {
        "trusted": true,
        "id": "iMnl7IoLnSHH"
      },
      "cell_type": "code",
      "source": [
        "from sklearn.metrics import confusion_matrix\n",
        "n_outliers = len(Fraud)\n",
        "print(\"the Model used is {}\".format(\"Isolation Forest\"))\n",
        "acc= accuracy_score(Y_test,y_pred)\n",
        "print(\"The accuracy is  {}\".format(acc))\n",
        "prec= precision_score(Y_test,y_pred)\n",
        "print(\"The precision is {}\".format(prec))\n",
        "rec= recall_score(Y_test,y_pred)\n",
        "print(\"The recall is {}\".format(rec))\n",
        "f1= f1_score(Y_test,y_pred)\n",
        "print(\"The F1-Score is {}\".format(f1))\n",
        "MCC=matthews_corrcoef(Y_test,y_pred)\n",
        "print(\"The Matthews correlation coefficient is{}\".format(MCC))\n",
        "\n",
        "#printing the confusion matrix\n",
        "LABELS = ['Normal', 'Fraud']\n",
        "conf_matrix = confusion_matrix(Y_test, y_pred)\n",
        "plt.figure(figsize=(12, 12))\n",
        "sns.heatmap(conf_matrix, xticklabels=LABELS,\n",
        "            yticklabels=LABELS, annot=True, fmt=\"d\");\n",
        "plt.title(\"Confusion matrix\")\n",
        "plt.ylabel('True class')\n",
        "plt.xlabel('Predicted class')\n",
        "plt.show()\n",
        "\n",
        "# Run classification metrics\n",
        "plt.figure(figsize=(9, 7))\n",
        "print('{}: {}'.format(\"Isolation Forest\", n_errors))\n",
        "print(accuracy_score(Y_test, y_pred))\n",
        "print(classification_report(Y_test, y_pred))"
      ],
      "execution_count": null,
      "outputs": []
    },
    {
      "metadata": {
        "id": "V_nDOs9BnSHI"
      },
      "cell_type": "markdown",
      "source": [
        "## Random Forest Classifier"
      ]
    },
    {
      "metadata": {
        "trusted": true,
        "id": "ug6tpcq8nSHI"
      },
      "cell_type": "code",
      "source": [
        "# Building the Random Forest Classifier (RANDOM FOREST)\n",
        "from sklearn.ensemble import RandomForestClassifier\n",
        "# random forest model creation\n",
        "rfc = RandomForestClassifier()\n",
        "rfc.fit(X_train,Y_train)\n",
        "# predictions\n",
        "y_pred = rfc.predict(X_test)"
      ],
      "execution_count": null,
      "outputs": []
    },
    {
      "metadata": {
        "trusted": true,
        "id": "KvU6VVfxnSHI"
      },
      "cell_type": "code",
      "source": [
        "#Evaluating the classifier\n",
        "#printing every score of the classifier\n",
        "#scoring in any thing\n",
        "from sklearn.metrics import classification_report, accuracy_score,precision_score,recall_score,f1_score,matthews_corrcoef\n",
        "from sklearn.metrics import confusion_matrix\n",
        "n_outliers = len(Fraud)\n",
        "n_errors = (y_pred != Y_test).sum()\n",
        "print(\"The model used is Random Forest classifier\")\n",
        "acc= accuracy_score(Y_test,y_pred)\n",
        "print(\"The accuracy is  {}\".format(acc))\n",
        "prec= precision_score(Y_test,y_pred)\n",
        "print(\"The precision is {}\".format(prec))\n",
        "rec= recall_score(Y_test,y_pred)\n",
        "print(\"The recall is {}\".format(rec))\n",
        "f1= f1_score(Y_test,y_pred)\n",
        "print(\"The F1-Score is {}\".format(f1))\n",
        "MCC=matthews_corrcoef(Y_test,y_pred)\n",
        "print(\"The Matthews correlation coefficient is {}\".format(MCC))\n",
        "\n",
        "\n",
        "#printing the confusion matrix\n",
        "LABELS = ['Normal', 'Fraud']\n",
        "conf_matrix = confusion_matrix(Y_test, y_pred)\n",
        "plt.figure(figsize=(12, 12))\n",
        "sns.heatmap(conf_matrix, xticklabels=LABELS, yticklabels=LABELS, annot=True, fmt=\"d\");\n",
        "plt.title(\"Confusion matrix\")\n",
        "plt.ylabel('True class')\n",
        "plt.xlabel('Predicted class')\n",
        "plt.show()\n",
        "\n",
        "# Run classification metrics\n",
        "plt.figure(figsize=(9, 7))\n",
        "print('{}: {}'.format(\"Random Forest\", n_errors))\n",
        "print(accuracy_score(Y_test, y_pred))\n",
        "print(classification_report(Y_test, y_pred))"
      ],
      "execution_count": null,
      "outputs": []
    },
    {
      "metadata": {
        "trusted": true,
        "id": "ZgHe1_jjnSHI"
      },
      "cell_type": "code",
      "source": [
        "#visualizing the random tree\n",
        "feature_list = list(X.columns)\n",
        "# Import tools needed for visualization\n",
        "from IPython.display import Image\n",
        "from sklearn.tree import export_graphviz\n",
        "import pydot\n",
        "\n",
        "#pulling out one tree from the forest\n",
        "tree = rfc.estimators_[5]\n",
        "export_graphviz(tree, out_file = 'tree.dot', feature_names = feature_list, rounded = True, precision = 1)\n",
        "# Use dot file to create a graph\n",
        "(graph, ) = pydot.graph_from_dot_file('tree.dot')\n",
        "# Write graph to a png file\n",
        "display(Image(graph.create_png()))"
      ],
      "execution_count": null,
      "outputs": []
    }
  ],
  "metadata": {
    "kernelspec": {
      "language": "python",
      "display_name": "Python 3",
      "name": "python3"
    },
    "language_info": {
      "pygments_lexer": "ipython3",
      "nbconvert_exporter": "python",
      "version": "3.6.4",
      "file_extension": ".py",
      "codemirror_mode": {
        "name": "ipython",
        "version": 3
      },
      "name": "python",
      "mimetype": "text/x-python"
    },
    "colab": {
      "name": "Credit Card Fraud Detection using Random Forest",
      "provenance": []
    }
  },
  "nbformat": 4,
  "nbformat_minor": 0
}